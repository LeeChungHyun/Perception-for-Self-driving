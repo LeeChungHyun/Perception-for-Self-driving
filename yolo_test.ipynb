{
  "nbformat": 4,
  "nbformat_minor": 0,
  "metadata": {
    "colab": {
      "name": "yolo_test.ipynb",
      "provenance": [],
      "collapsed_sections": [],
      "include_colab_link": true
    },
    "kernelspec": {
      "name": "python3",
      "display_name": "Python 3"
    },
    "accelerator": "GPU"
  },
  "cells": [
    {
      "cell_type": "markdown",
      "metadata": {
        "id": "view-in-github",
        "colab_type": "text"
      },
      "source": [
        "<a href=\"https://colab.research.google.com/github/LeeChungHyun/Perception-for-Self-driving/blob/master/yolo_test.ipynb\" target=\"_parent\"><img src=\"https://colab.research.google.com/assets/colab-badge.svg\" alt=\"Open In Colab\"/></a>"
      ]
    },
    {
      "cell_type": "code",
      "metadata": {
        "id": "0zP-MP5ZpVzL",
        "colab_type": "code",
        "outputId": "69f85947-1863-4966-ac23-87c402d72ac8",
        "colab": {
          "base_uri": "https://localhost:8080/",
          "height": 105
        }
      },
      "source": [
        "!git clone https://github.com/pjreddie/darknet"
      ],
      "execution_count": 0,
      "outputs": [
        {
          "output_type": "stream",
          "text": [
            "Cloning into 'darknet'...\n",
            "remote: Enumerating objects: 5901, done.\u001b[K\n",
            "remote: Total 5901 (delta 0), reused 0 (delta 0), pack-reused 5901\u001b[K\n",
            "Receiving objects: 100% (5901/5901), 6.16 MiB | 8.51 MiB/s, done.\n",
            "Resolving deltas: 100% (3916/3916), done.\n"
          ],
          "name": "stdout"
        }
      ]
    },
    {
      "cell_type": "code",
      "metadata": {
        "id": "5qYQ_QuE_eLZ",
        "colab_type": "code",
        "outputId": "7fccb287-344a-4986-b8a2-34f8140a2e1c",
        "colab": {
          "base_uri": "https://localhost:8080/",
          "height": 125
        }
      },
      "source": [
        "from google.colab import drive\n",
        "drive.mount('/content/drive')"
      ],
      "execution_count": 0,
      "outputs": [
        {
          "output_type": "stream",
          "text": [
            "Go to this URL in a browser: https://accounts.google.com/o/oauth2/auth?client_id=947318989803-6bn6qk8qdgf4n4g3pfee6491hc0brc4i.apps.googleusercontent.com&redirect_uri=urn%3Aietf%3Awg%3Aoauth%3A2.0%3Aoob&scope=email%20https%3A%2F%2Fwww.googleapis.com%2Fauth%2Fdocs.test%20https%3A%2F%2Fwww.googleapis.com%2Fauth%2Fdrive%20https%3A%2F%2Fwww.googleapis.com%2Fauth%2Fdrive.photos.readonly%20https%3A%2F%2Fwww.googleapis.com%2Fauth%2Fpeopleapi.readonly&response_type=code\n",
            "\n",
            "Enter your authorization code:\n",
            "··········\n",
            "Mounted at /content/drive\n"
          ],
          "name": "stdout"
        }
      ]
    },
    {
      "cell_type": "code",
      "metadata": {
        "id": "3qhI_gHZpqDD",
        "colab_type": "code",
        "outputId": "600f2611-bdd6-42c8-c80e-657280a615cb",
        "colab": {
          "base_uri": "https://localhost:8080/",
          "height": 34
        }
      },
      "source": [
        "cd darknet"
      ],
      "execution_count": 0,
      "outputs": [
        {
          "output_type": "stream",
          "text": [
            "/content/darknet\n"
          ],
          "name": "stdout"
        }
      ]
    },
    {
      "cell_type": "code",
      "metadata": {
        "id": "DhYox5zgpqlL",
        "colab_type": "code",
        "colab": {}
      },
      "source": [
        "!sed -i 's/GPU=0/GPU=1/g' Makefile"
      ],
      "execution_count": 0,
      "outputs": []
    },
    {
      "cell_type": "code",
      "metadata": {
        "id": "2nQa9cwXpq9S",
        "colab_type": "code",
        "colab": {}
      },
      "source": [
        "!make"
      ],
      "execution_count": 0,
      "outputs": []
    },
    {
      "cell_type": "code",
      "metadata": {
        "id": "bVu3VIomprh9",
        "colab_type": "code",
        "colab": {}
      },
      "source": [
        "!wget https://pjreddie.com/media/files/yolov3.weights"
      ],
      "execution_count": 0,
      "outputs": []
    },
    {
      "cell_type": "code",
      "metadata": {
        "id": "UhQm2ZKRqcz0",
        "colab_type": "code",
        "colab": {}
      },
      "source": [
        "!pip install opencv-python  "
      ],
      "execution_count": 0,
      "outputs": []
    },
    {
      "cell_type": "code",
      "metadata": {
        "id": "L6vAG5spqdLu",
        "colab_type": "code",
        "colab": {}
      },
      "source": [
        "!cat /etc/os-release"
      ],
      "execution_count": 0,
      "outputs": []
    },
    {
      "cell_type": "code",
      "metadata": {
        "id": "5iPlwmoHqddi",
        "colab_type": "code",
        "colab": {}
      },
      "source": [
        "!apt-get update"
      ],
      "execution_count": 0,
      "outputs": []
    },
    {
      "cell_type": "code",
      "metadata": {
        "id": "8Z4YiSI1qnUw",
        "colab_type": "code",
        "colab": {}
      },
      "source": [
        "!apt-get upgrade"
      ],
      "execution_count": 0,
      "outputs": []
    },
    {
      "cell_type": "code",
      "metadata": {
        "id": "Lz6iNxLwq3GM",
        "colab_type": "code",
        "colab": {}
      },
      "source": [
        "!apt-get install build-essential"
      ],
      "execution_count": 0,
      "outputs": []
    },
    {
      "cell_type": "code",
      "metadata": {
        "id": "wxKgDftGq3dU",
        "colab_type": "code",
        "colab": {}
      },
      "source": [
        "!apt-get install cmake git libgtk2.0-dev pkg-config libavcodec-dev libavformat-dev libswscale-dev"
      ],
      "execution_count": 0,
      "outputs": []
    },
    {
      "cell_type": "code",
      "metadata": {
        "id": "o4WJTMhKq30e",
        "colab_type": "code",
        "colab": {}
      },
      "source": [
        "!apt-get install libopencv-dev"
      ],
      "execution_count": 0,
      "outputs": []
    },
    {
      "cell_type": "code",
      "metadata": {
        "id": "mB5wOkfFq4TC",
        "colab_type": "code",
        "colab": {}
      },
      "source": [
        "!/usr/local/cuda/bin/nvcc --version"
      ],
      "execution_count": 0,
      "outputs": []
    },
    {
      "cell_type": "code",
      "metadata": {
        "id": "pINN0LZjrA9d",
        "colab_type": "code",
        "colab": {}
      },
      "source": [
        "!git clone https://github.com/AlexeyAB/Yolo_mark"
      ],
      "execution_count": 0,
      "outputs": []
    },
    {
      "cell_type": "code",
      "metadata": {
        "id": "zInfG7oErBXX",
        "colab_type": "code",
        "colab": {}
      },
      "source": [
        " !wget https://pjreddie.com/media/files/darknet53.conv.74"
      ],
      "execution_count": 0,
      "outputs": []
    },
    {
      "cell_type": "code",
      "metadata": {
        "id": "Y6JN7o4QtbNL",
        "colab_type": "code",
        "outputId": "9ebe82db-7259-4e9e-cd8c-7dcb1d9cd535",
        "colab": {
          "base_uri": "https://localhost:8080/",
          "height": 1000
        }
      },
      "source": [
        "!./darknet detector train data/obj.data yolov3.cfg darknet53.conv.74"
      ],
      "execution_count": 0,
      "outputs": [
        {
          "output_type": "stream",
          "text": [
            "yolov3\n",
            "layer     filters    size              input                output\n",
            "    0 conv     32  3 x 3 / 1   608 x 608 x   3   ->   608 x 608 x  32  0.639 BFLOPs\n",
            "    1 conv     64  3 x 3 / 2   608 x 608 x  32   ->   304 x 304 x  64  3.407 BFLOPs\n",
            "    2 conv     32  1 x 1 / 1   304 x 304 x  64   ->   304 x 304 x  32  0.379 BFLOPs\n",
            "    3 conv     64  3 x 3 / 1   304 x 304 x  32   ->   304 x 304 x  64  3.407 BFLOPs\n",
            "    4 res    1                 304 x 304 x  64   ->   304 x 304 x  64\n",
            "    5 conv    128  3 x 3 / 2   304 x 304 x  64   ->   152 x 152 x 128  3.407 BFLOPs\n",
            "    6 conv     64  1 x 1 / 1   152 x 152 x 128   ->   152 x 152 x  64  0.379 BFLOPs\n",
            "    7 conv    128  3 x 3 / 1   152 x 152 x  64   ->   152 x 152 x 128  3.407 BFLOPs\n",
            "    8 res    5                 152 x 152 x 128   ->   152 x 152 x 128\n",
            "    9 conv     64  1 x 1 / 1   152 x 152 x 128   ->   152 x 152 x  64  0.379 BFLOPs\n",
            "   10 conv    128  3 x 3 / 1   152 x 152 x  64   ->   152 x 152 x 128  3.407 BFLOPs\n",
            "   11 res    8                 152 x 152 x 128   ->   152 x 152 x 128\n",
            "   12 conv    256  3 x 3 / 2   152 x 152 x 128   ->    76 x  76 x 256  3.407 BFLOPs\n",
            "   13 conv    128  1 x 1 / 1    76 x  76 x 256   ->    76 x  76 x 128  0.379 BFLOPs\n",
            "   14 conv    256  3 x 3 / 1    76 x  76 x 128   ->    76 x  76 x 256  3.407 BFLOPs\n",
            "   15 res   12                  76 x  76 x 256   ->    76 x  76 x 256\n",
            "   16 conv    128  1 x 1 / 1    76 x  76 x 256   ->    76 x  76 x 128  0.379 BFLOPs\n",
            "   17 conv    256  3 x 3 / 1    76 x  76 x 128   ->    76 x  76 x 256  3.407 BFLOPs\n",
            "   18 res   15                  76 x  76 x 256   ->    76 x  76 x 256\n",
            "   19 conv    128  1 x 1 / 1    76 x  76 x 256   ->    76 x  76 x 128  0.379 BFLOPs\n",
            "   20 conv    256  3 x 3 / 1    76 x  76 x 128   ->    76 x  76 x 256  3.407 BFLOPs\n",
            "   21 res   18                  76 x  76 x 256   ->    76 x  76 x 256\n",
            "   22 conv    128  1 x 1 / 1    76 x  76 x 256   ->    76 x  76 x 128  0.379 BFLOPs\n",
            "   23 conv    256  3 x 3 / 1    76 x  76 x 128   ->    76 x  76 x 256  3.407 BFLOPs\n",
            "   24 res   21                  76 x  76 x 256   ->    76 x  76 x 256\n",
            "   25 conv    128  1 x 1 / 1    76 x  76 x 256   ->    76 x  76 x 128  0.379 BFLOPs\n",
            "   26 conv    256  3 x 3 / 1    76 x  76 x 128   ->    76 x  76 x 256  3.407 BFLOPs\n",
            "   27 res   24                  76 x  76 x 256   ->    76 x  76 x 256\n",
            "   28 conv    128  1 x 1 / 1    76 x  76 x 256   ->    76 x  76 x 128  0.379 BFLOPs\n",
            "   29 conv    256  3 x 3 / 1    76 x  76 x 128   ->    76 x  76 x 256  3.407 BFLOPs\n",
            "   30 res   27                  76 x  76 x 256   ->    76 x  76 x 256\n",
            "   31 conv    128  1 x 1 / 1    76 x  76 x 256   ->    76 x  76 x 128  0.379 BFLOPs\n",
            "   32 conv    256  3 x 3 / 1    76 x  76 x 128   ->    76 x  76 x 256  3.407 BFLOPs\n",
            "   33 res   30                  76 x  76 x 256   ->    76 x  76 x 256\n",
            "   34 conv    128  1 x 1 / 1    76 x  76 x 256   ->    76 x  76 x 128  0.379 BFLOPs\n",
            "   35 conv    256  3 x 3 / 1    76 x  76 x 128   ->    76 x  76 x 256  3.407 BFLOPs\n",
            "   36 res   33                  76 x  76 x 256   ->    76 x  76 x 256\n",
            "   37 conv    512  3 x 3 / 2    76 x  76 x 256   ->    38 x  38 x 512  3.407 BFLOPs\n",
            "   38 conv    256  1 x 1 / 1    38 x  38 x 512   ->    38 x  38 x 256  0.379 BFLOPs\n",
            "   39 conv    512  3 x 3 / 1    38 x  38 x 256   ->    38 x  38 x 512  3.407 BFLOPs\n",
            "   40 res   37                  38 x  38 x 512   ->    38 x  38 x 512\n",
            "   41 conv    256  1 x 1 / 1    38 x  38 x 512   ->    38 x  38 x 256  0.379 BFLOPs\n",
            "   42 conv    512  3 x 3 / 1    38 x  38 x 256   ->    38 x  38 x 512  3.407 BFLOPs\n",
            "   43 res   40                  38 x  38 x 512   ->    38 x  38 x 512\n",
            "   44 conv    256  1 x 1 / 1    38 x  38 x 512   ->    38 x  38 x 256  0.379 BFLOPs\n",
            "   45 conv    512  3 x 3 / 1    38 x  38 x 256   ->    38 x  38 x 512  3.407 BFLOPs\n",
            "   46 res   43                  38 x  38 x 512   ->    38 x  38 x 512\n",
            "   47 conv    256  1 x 1 / 1    38 x  38 x 512   ->    38 x  38 x 256  0.379 BFLOPs\n",
            "   48 conv    512  3 x 3 / 1    38 x  38 x 256   ->    38 x  38 x 512  3.407 BFLOPs\n",
            "   49 res   46                  38 x  38 x 512   ->    38 x  38 x 512\n",
            "   50 conv    256  1 x 1 / 1    38 x  38 x 512   ->    38 x  38 x 256  0.379 BFLOPs\n",
            "   51 conv    512  3 x 3 / 1    38 x  38 x 256   ->    38 x  38 x 512  3.407 BFLOPs\n",
            "   52 res   49                  38 x  38 x 512   ->    38 x  38 x 512\n",
            "   53 conv    256  1 x 1 / 1    38 x  38 x 512   ->    38 x  38 x 256  0.379 BFLOPs\n",
            "   54 conv    512  3 x 3 / 1    38 x  38 x 256   ->    38 x  38 x 512  3.407 BFLOPs\n",
            "   55 res   52                  38 x  38 x 512   ->    38 x  38 x 512\n",
            "   56 conv    256  1 x 1 / 1    38 x  38 x 512   ->    38 x  38 x 256  0.379 BFLOPs\n",
            "   57 conv    512  3 x 3 / 1    38 x  38 x 256   ->    38 x  38 x 512  3.407 BFLOPs\n",
            "   58 res   55                  38 x  38 x 512   ->    38 x  38 x 512\n",
            "   59 conv    256  1 x 1 / 1    38 x  38 x 512   ->    38 x  38 x 256  0.379 BFLOPs\n",
            "   60 conv    512  3 x 3 / 1    38 x  38 x 256   ->    38 x  38 x 512  3.407 BFLOPs\n",
            "   61 res   58                  38 x  38 x 512   ->    38 x  38 x 512\n",
            "   62 conv   1024  3 x 3 / 2    38 x  38 x 512   ->    19 x  19 x1024  3.407 BFLOPs\n",
            "   63 conv    512  1 x 1 / 1    19 x  19 x1024   ->    19 x  19 x 512  0.379 BFLOPs\n",
            "   64 conv   1024  3 x 3 / 1    19 x  19 x 512   ->    19 x  19 x1024  3.407 BFLOPs\n",
            "   65 res   62                  19 x  19 x1024   ->    19 x  19 x1024\n",
            "   66 conv    512  1 x 1 / 1    19 x  19 x1024   ->    19 x  19 x 512  0.379 BFLOPs\n",
            "   67 conv   1024  3 x 3 / 1    19 x  19 x 512   ->    19 x  19 x1024  3.407 BFLOPs\n",
            "   68 res   65                  19 x  19 x1024   ->    19 x  19 x1024\n",
            "   69 conv    512  1 x 1 / 1    19 x  19 x1024   ->    19 x  19 x 512  0.379 BFLOPs\n",
            "   70 conv   1024  3 x 3 / 1    19 x  19 x 512   ->    19 x  19 x1024  3.407 BFLOPs\n",
            "   71 res   68                  19 x  19 x1024   ->    19 x  19 x1024\n",
            "   72 conv    512  1 x 1 / 1    19 x  19 x1024   ->    19 x  19 x 512  0.379 BFLOPs\n",
            "   73 conv   1024  3 x 3 / 1    19 x  19 x 512   ->    19 x  19 x1024  3.407 BFLOPs\n",
            "   74 res   71                  19 x  19 x1024   ->    19 x  19 x1024\n",
            "   75 conv    512  1 x 1 / 1    19 x  19 x1024   ->    19 x  19 x 512  0.379 BFLOPs\n",
            "   76 conv   1024  3 x 3 / 1    19 x  19 x 512   ->    19 x  19 x1024  3.407 BFLOPs\n",
            "   77 conv    512  1 x 1 / 1    19 x  19 x1024   ->    19 x  19 x 512  0.379 BFLOPs\n",
            "   78 conv   1024  3 x 3 / 1    19 x  19 x 512   ->    19 x  19 x1024  3.407 BFLOPs\n",
            "   79 conv    512  1 x 1 / 1    19 x  19 x1024   ->    19 x  19 x 512  0.379 BFLOPs\n",
            "   80 conv   1024  3 x 3 / 1    19 x  19 x 512   ->    19 x  19 x1024  3.407 BFLOPs\n",
            "   81 conv     24  1 x 1 / 1    19 x  19 x1024   ->    19 x  19 x  24  0.018 BFLOPs\n",
            "   82 yolo\n",
            "   83 route  79\n",
            "   84 conv    256  1 x 1 / 1    19 x  19 x 512   ->    19 x  19 x 256  0.095 BFLOPs\n",
            "   85 upsample            2x    19 x  19 x 256   ->    38 x  38 x 256\n",
            "   86 route  85 61\n",
            "   87 conv    256  1 x 1 / 1    38 x  38 x 768   ->    38 x  38 x 256  0.568 BFLOPs\n",
            "   88 conv    512  3 x 3 / 1    38 x  38 x 256   ->    38 x  38 x 512  3.407 BFLOPs\n",
            "   89 conv    256  1 x 1 / 1    38 x  38 x 512   ->    38 x  38 x 256  0.379 BFLOPs\n",
            "   90 conv    512  3 x 3 / 1    38 x  38 x 256   ->    38 x  38 x 512  3.407 BFLOPs\n",
            "   91 conv    256  1 x 1 / 1    38 x  38 x 512   ->    38 x  38 x 256  0.379 BFLOPs\n",
            "   92 conv    512  3 x 3 / 1    38 x  38 x 256   ->    38 x  38 x 512  3.407 BFLOPs\n",
            "   93 conv     24  1 x 1 / 1    38 x  38 x 512   ->    38 x  38 x  24  0.035 BFLOPs\n",
            "   94 yolo\n",
            "   95 route  91\n",
            "   96 conv    128  1 x 1 / 1    38 x  38 x 256   ->    38 x  38 x 128  0.095 BFLOPs\n",
            "   97 upsample            2x    38 x  38 x 128   ->    76 x  76 x 128\n",
            "   98 route  97 36\n",
            "   99 conv    128  1 x 1 / 1    76 x  76 x 384   ->    76 x  76 x 128  0.568 BFLOPs\n",
            "  100 conv    256  3 x 3 / 1    76 x  76 x 128   ->    76 x  76 x 256  3.407 BFLOPs\n",
            "  101 conv    128  1 x 1 / 1    76 x  76 x 256   ->    76 x  76 x 128  0.379 BFLOPs\n",
            "  102 conv    256  3 x 3 / 1    76 x  76 x 128   ->    76 x  76 x 256  3.407 BFLOPs\n",
            "  103 conv    128  1 x 1 / 1    76 x  76 x 256   ->    76 x  76 x 128  0.379 BFLOPs\n",
            "  104 conv    256  3 x 3 / 1    76 x  76 x 128   ->    76 x  76 x 256  3.407 BFLOPs\n",
            "  105 conv     24  1 x 1 / 1    76 x  76 x 256   ->    76 x  76 x  24  0.071 BFLOPs\n",
            "  106 yolo\n",
            "Loading weights from darknet53.conv.74...Done!\n",
            "Learning Rate: 0.001, Momentum: 0.9, Decay: 0.0005\n",
            "Resizing\n",
            "608\n",
            "Loaded: 0.000075 seconds\n",
            "Region 82 Avg IOU: 0.423480, Class: 0.042493, Obj: 0.417986, No Obj: 0.480721, .5R: 0.250000, .75R: 0.000000,  count: 4\n",
            "Region 94 Avg IOU: -nan, Class: -nan, Obj: -nan, No Obj: 0.461071, .5R: -nan, .75R: -nan,  count: 0\n",
            "Region 106 Avg IOU: -nan, Class: -nan, Obj: -nan, No Obj: 0.466378, .5R: -nan, .75R: -nan,  count: 0\n",
            "Region 82 Avg IOU: 0.074899, Class: 0.000000, Obj: 0.417066, No Obj: 0.483272, .5R: 0.000000, .75R: 0.000000,  count: 2\n",
            "Region 94 Avg IOU: 0.049760, Class: 0.443917, Obj: 0.291860, No Obj: 0.461529, .5R: 0.000000, .75R: 0.000000,  count: 2\n",
            "Region 106 Avg IOU: -nan, Class: -nan, Obj: -nan, No Obj: 0.465910, .5R: -nan, .75R: -nan,  count: 0\n",
            "Region 82 Avg IOU: 0.001896, Class: 0.000000, Obj: 0.093348, No Obj: 0.483094, .5R: 0.000000, .75R: 0.000000,  count: 1\n",
            "Region 94 Avg IOU: 0.156477, Class: 0.000000, Obj: 0.497055, No Obj: 0.462833, .5R: 0.000000, .75R: 0.000000,  count: 2\n",
            "Region 106 Avg IOU: 0.000198, Class: 0.000000, Obj: 0.968422, No Obj: 0.467496, .5R: 0.000000, .75R: 0.000000,  count: 1\n",
            "Region 82 Avg IOU: 0.195938, Class: 0.000000, Obj: 0.421722, No Obj: 0.481986, .5R: 0.000000, .75R: 0.000000,  count: 3\n",
            "Region 94 Avg IOU: 0.212035, Class: 0.000000, Obj: 0.048124, No Obj: 0.460281, .5R: 0.000000, .75R: 0.000000,  count: 1\n",
            "Region 106 Avg IOU: -nan, Class: -nan, Obj: -nan, No Obj: 0.465815, .5R: -nan, .75R: -nan,  count: 0\n",
            "Region 82 Avg IOU: 0.041107, Class: 0.000000, Obj: 0.232524, No Obj: 0.483663, .5R: 0.000000, .75R: 0.000000,  count: 1\n",
            "Region 94 Avg IOU: 0.356195, Class: 0.000000, Obj: 0.506660, No Obj: 0.462012, .5R: 0.500000, .75R: 0.000000,  count: 2\n",
            "Region 106 Avg IOU: 0.040763, Class: 0.000000, Obj: 0.707558, No Obj: 0.465703, .5R: 0.000000, .75R: 0.000000,  count: 1\n",
            "Region 82 Avg IOU: 0.125072, Class: 0.347916, Obj: 0.523766, No Obj: 0.483654, .5R: 0.000000, .75R: 0.000000,  count: 2\n",
            "Region 94 Avg IOU: 0.131602, Class: 0.580106, Obj: 0.682641, No Obj: 0.461808, .5R: 0.000000, .75R: 0.000000,  count: 2\n",
            "Region 106 Avg IOU: -nan, Class: -nan, Obj: -nan, No Obj: 0.466261, .5R: -nan, .75R: -nan,  count: 0\n",
            "Region 82 Avg IOU: 0.189407, Class: 0.324181, Obj: 0.327436, No Obj: 0.484320, .5R: 0.000000, .75R: 0.000000,  count: 3\n",
            "Region 94 Avg IOU: 0.044729, Class: 0.000000, Obj: 0.239166, No Obj: 0.461243, .5R: 0.000000, .75R: 0.000000,  count: 1\n",
            "Region 106 Avg IOU: -nan, Class: -nan, Obj: -nan, No Obj: 0.465740, .5R: -nan, .75R: -nan,  count: 0\n",
            "Region 82 Avg IOU: 0.168273, Class: 0.236702, Obj: 0.427911, No Obj: 0.481038, .5R: 0.000000, .75R: 0.000000,  count: 3\n",
            "Region 94 Avg IOU: 0.116137, Class: 0.197548, Obj: 0.242303, No Obj: 0.461477, .5R: 0.000000, .75R: 0.000000,  count: 1\n",
            "Region 106 Avg IOU: -nan, Class: -nan, Obj: -nan, No Obj: 0.465515, .5R: -nan, .75R: -nan,  count: 0\n",
            "Region 82 Avg IOU: 0.047329, Class: 0.000000, Obj: 0.076902, No Obj: 0.482409, .5R: 0.000000, .75R: 0.000000,  count: 2\n",
            "Region 94 Avg IOU: 0.344168, Class: 0.292316, Obj: 0.145200, No Obj: 0.461898, .5R: 0.000000, .75R: 0.000000,  count: 2\n",
            "Region 106 Avg IOU: -nan, Class: -nan, Obj: -nan, No Obj: 0.466119, .5R: -nan, .75R: -nan,  count: 0\n",
            "Region 82 Avg IOU: 0.001917, Class: 0.000000, Obj: 0.022798, No Obj: 0.483130, .5R: 0.000000, .75R: 0.000000,  count: 1\n",
            "Region 94 Avg IOU: 0.074228, Class: 0.000000, Obj: 0.469918, No Obj: 0.460895, .5R: 0.000000, .75R: 0.000000,  count: 2\n",
            "Region 106 Avg IOU: 0.018347, Class: 0.000000, Obj: 0.459218, No Obj: 0.465680, .5R: 0.000000, .75R: 0.000000,  count: 1\n",
            "Region 82 Avg IOU: 0.003007, Class: 0.000000, Obj: 0.088844, No Obj: 0.482350, .5R: 0.000000, .75R: 0.000000,  count: 1\n",
            "Region 94 Avg IOU: 0.012924, Class: 0.294841, Obj: 0.201725, No Obj: 0.462718, .5R: 0.000000, .75R: 0.000000,  count: 2\n",
            "Region 106 Avg IOU: 0.110613, Class: 0.000000, Obj: 0.509652, No Obj: 0.466717, .5R: 0.000000, .75R: 0.000000,  count: 1\n",
            "Region 82 Avg IOU: 0.090237, Class: 0.000000, Obj: 0.654072, No Obj: 0.479954, .5R: 0.000000, .75R: 0.000000,  count: 4\n",
            "Region 94 Avg IOU: -nan, Class: -nan, Obj: -nan, No Obj: 0.460867, .5R: -nan, .75R: -nan,  count: 0\n",
            "Region 106 Avg IOU: -nan, Class: -nan, Obj: -nan, No Obj: 0.466695, .5R: -nan, .75R: -nan,  count: 0\n",
            "Region 82 Avg IOU: 0.163451, Class: 0.000000, Obj: 0.070039, No Obj: 0.483479, .5R: 0.000000, .75R: 0.000000,  count: 4\n",
            "Region 94 Avg IOU: -nan, Class: -nan, Obj: -nan, No Obj: 0.460205, .5R: -nan, .75R: -nan,  count: 0\n",
            "Region 106 Avg IOU: -nan, Class: -nan, Obj: -nan, No Obj: 0.466301, .5R: -nan, .75R: -nan,  count: 0\n",
            "Region 82 Avg IOU: 0.253491, Class: 0.000000, Obj: 0.237380, No Obj: 0.482291, .5R: 0.333333, .75R: 0.000000,  count: 3\n",
            "Region 94 Avg IOU: -nan, Class: -nan, Obj: -nan, No Obj: 0.462489, .5R: -nan, .75R: -nan,  count: 0\n",
            "Region 106 Avg IOU: 0.000009, Class: 0.000000, Obj: 0.963043, No Obj: 0.466498, .5R: 0.000000, .75R: 0.000000,  count: 1\n",
            "Region 82 Avg IOU: 0.128813, Class: 0.000000, Obj: 0.274770, No Obj: 0.482939, .5R: 0.000000, .75R: 0.000000,  count: 3\n",
            "Region 94 Avg IOU: 0.119865, Class: 0.953976, Obj: 0.203680, No Obj: 0.460495, .5R: 0.000000, .75R: 0.000000,  count: 1\n",
            "Region 106 Avg IOU: -nan, Class: -nan, Obj: -nan, No Obj: 0.465068, .5R: -nan, .75R: -nan,  count: 0\n",
            "Region 82 Avg IOU: 0.240600, Class: 0.000000, Obj: 0.042973, No Obj: 0.483689, .5R: 0.333333, .75R: 0.000000,  count: 3\n",
            "Region 94 Avg IOU: 0.018234, Class: 0.968659, Obj: 0.832762, No Obj: 0.461821, .5R: 0.000000, .75R: 0.000000,  count: 1\n",
            "Region 106 Avg IOU: -nan, Class: -nan, Obj: -nan, No Obj: 0.464939, .5R: -nan, .75R: -nan,  count: 0\n",
            "1: 1915.569946, 1915.569946 avg, 0.000000 rate, 27.617632 seconds, 64 images\n",
            "Loaded: 0.000063 seconds\n",
            "Region 82 Avg IOU: 0.261957, Class: 0.178321, Obj: 0.655928, No Obj: 0.483533, .5R: 0.250000, .75R: 0.000000,  count: 4\n",
            "Region 94 Avg IOU: -nan, Class: -nan, Obj: -nan, No Obj: 0.459218, .5R: -nan, .75R: -nan,  count: 0\n",
            "Region 106 Avg IOU: -nan, Class: -nan, Obj: -nan, No Obj: 0.468259, .5R: -nan, .75R: -nan,  count: 0\n",
            "Region 82 Avg IOU: 0.041775, Class: 0.106862, Obj: 0.311068, No Obj: 0.480012, .5R: 0.000000, .75R: 0.000000,  count: 3\n",
            "Region 94 Avg IOU: 0.143776, Class: 0.992765, Obj: 0.031091, No Obj: 0.461505, .5R: 0.000000, .75R: 0.000000,  count: 1\n",
            "Region 106 Avg IOU: -nan, Class: -nan, Obj: -nan, No Obj: 0.468619, .5R: -nan, .75R: -nan,  count: 0\n",
            "Region 82 Avg IOU: 0.032357, Class: 0.000000, Obj: 0.036638, No Obj: 0.483188, .5R: 0.000000, .75R: 0.000000,  count: 2\n",
            "Region 94 Avg IOU: 0.145064, Class: 0.022008, Obj: 0.151251, No Obj: 0.460724, .5R: 0.000000, .75R: 0.000000,  count: 2\n",
            "Region 106 Avg IOU: -nan, Class: -nan, Obj: -nan, No Obj: 0.465562, .5R: -nan, .75R: -nan,  count: 0\n",
            "Region 82 Avg IOU: 0.153945, Class: 0.000000, Obj: 0.294766, No Obj: 0.481336, .5R: 0.000000, .75R: 0.000000,  count: 2\n",
            "Region 94 Avg IOU: 0.093867, Class: 0.000000, Obj: 0.245716, No Obj: 0.462335, .5R: 0.000000, .75R: 0.000000,  count: 2\n",
            "Region 106 Avg IOU: -nan, Class: -nan, Obj: -nan, No Obj: 0.466969, .5R: -nan, .75R: -nan,  count: 0\n",
            "Region 82 Avg IOU: 0.109590, Class: 0.138330, Obj: 0.414180, No Obj: 0.482740, .5R: 0.000000, .75R: 0.000000,  count: 2\n",
            "Region 94 Avg IOU: 0.300917, Class: 0.000000, Obj: 0.706326, No Obj: 0.461193, .5R: 0.500000, .75R: 0.000000,  count: 2\n",
            "Region 106 Avg IOU: -nan, Class: -nan, Obj: -nan, No Obj: 0.464425, .5R: -nan, .75R: -nan,  count: 0\n",
            "Region 82 Avg IOU: 0.120843, Class: 0.069627, Obj: 0.330318, No Obj: 0.483285, .5R: 0.000000, .75R: 0.000000,  count: 3\n",
            "Region 94 Avg IOU: 0.130875, Class: 0.000000, Obj: 0.036358, No Obj: 0.460276, .5R: 0.000000, .75R: 0.000000,  count: 1\n",
            "Region 106 Avg IOU: -nan, Class: -nan, Obj: -nan, No Obj: 0.466797, .5R: -nan, .75R: -nan,  count: 0\n",
            "Region 82 Avg IOU: 0.188326, Class: 0.159802, Obj: 0.302697, No Obj: 0.480846, .5R: 0.000000, .75R: 0.000000,  count: 4\n",
            "Region 94 Avg IOU: -nan, Class: -nan, Obj: -nan, No Obj: 0.460582, .5R: -nan, .75R: -nan,  count: 0\n",
            "Region 106 Avg IOU: -nan, Class: -nan, Obj: -nan, No Obj: 0.464456, .5R: -nan, .75R: -nan,  count: 0\n",
            "Region 82 Avg IOU: 0.104765, Class: 0.120581, Obj: 0.773472, No Obj: 0.480782, .5R: 0.000000, .75R: 0.000000,  count: 4\n",
            "Region 94 Avg IOU: -nan, Class: -nan, Obj: -nan, No Obj: 0.461454, .5R: -nan, .75R: -nan,  count: 0\n",
            "Region 106 Avg IOU: -nan, Class: -nan, Obj: -nan, No Obj: 0.467036, .5R: -nan, .75R: -nan,  count: 0\n",
            "Region 82 Avg IOU: 0.140040, Class: 0.000000, Obj: 0.028303, No Obj: 0.481131, .5R: 0.000000, .75R: 0.000000,  count: 2\n",
            "Region 94 Avg IOU: 0.105736, Class: 0.000000, Obj: 0.756216, No Obj: 0.461845, .5R: 0.000000, .75R: 0.000000,  count: 2\n",
            "Region 106 Avg IOU: -nan, Class: -nan, Obj: -nan, No Obj: 0.466675, .5R: -nan, .75R: -nan,  count: 0\n",
            "Region 82 Avg IOU: 0.065572, Class: 0.000000, Obj: 0.213858, No Obj: 0.484082, .5R: 0.000000, .75R: 0.000000,  count: 3\n",
            "Region 94 Avg IOU: 0.123363, Class: 0.000000, Obj: 0.062783, No Obj: 0.461655, .5R: 0.000000, .75R: 0.000000,  count: 1\n",
            "Region 106 Avg IOU: -nan, Class: -nan, Obj: -nan, No Obj: 0.465200, .5R: -nan, .75R: -nan,  count: 0\n",
            "Region 82 Avg IOU: 0.436773, Class: 0.000000, Obj: 0.753051, No Obj: 0.481173, .5R: 0.000000, .75R: 0.000000,  count: 1\n",
            "Region 94 Avg IOU: 0.306191, Class: 0.226340, Obj: 0.386942, No Obj: 0.460981, .5R: 0.333333, .75R: 0.000000,  count: 3\n",
            "Region 106 Avg IOU: -nan, Class: -nan, Obj: -nan, No Obj: 0.465733, .5R: -nan, .75R: -nan,  count: 0\n",
            "Region 82 Avg IOU: 0.260893, Class: 0.000000, Obj: 0.075740, No Obj: 0.482992, .5R: 0.000000, .75R: 0.000000,  count: 2\n",
            "Region 94 Avg IOU: 0.009132, Class: 0.000000, Obj: 0.915087, No Obj: 0.462475, .5R: 0.000000, .75R: 0.000000,  count: 2\n",
            "Region 106 Avg IOU: -nan, Class: -nan, Obj: -nan, No Obj: 0.465871, .5R: -nan, .75R: -nan,  count: 0\n",
            "Region 82 Avg IOU: 0.499540, Class: 0.544444, Obj: 0.860458, No Obj: 0.482000, .5R: 0.000000, .75R: 0.000000,  count: 1\n",
            "Region 94 Avg IOU: 0.042631, Class: 0.573676, Obj: 0.542508, No Obj: 0.460801, .5R: 0.000000, .75R: 0.000000,  count: 3\n",
            "Region 106 Avg IOU: -nan, Class: -nan, Obj: -nan, No Obj: 0.463496, .5R: -nan, .75R: -nan,  count: 0\n",
            "Region 82 Avg IOU: 0.217184, Class: 0.000000, Obj: 0.023472, No Obj: 0.483100, .5R: 0.000000, .75R: 0.000000,  count: 2\n",
            "Region 94 Avg IOU: 0.011331, Class: 0.257588, Obj: 0.331091, No Obj: 0.461490, .5R: 0.000000, .75R: 0.000000,  count: 2\n",
            "Region 106 Avg IOU: -nan, Class: -nan, Obj: -nan, No Obj: 0.466481, .5R: -nan, .75R: -nan,  count: 0\n",
            "Region 82 Avg IOU: 0.138018, Class: 0.114520, Obj: 0.608550, No Obj: 0.481550, .5R: 0.000000, .75R: 0.000000,  count: 4\n",
            "Region 94 Avg IOU: -nan, Class: -nan, Obj: -nan, No Obj: 0.461572, .5R: -nan, .75R: -nan,  count: 0\n",
            "Region 106 Avg IOU: -nan, Class: -nan, Obj: -nan, No Obj: 0.468441, .5R: -nan, .75R: -nan,  count: 0\n",
            "Region 82 Avg IOU: 0.182673, Class: 0.000000, Obj: 0.390406, No Obj: 0.481662, .5R: 0.000000, .75R: 0.000000,  count: 2\n",
            "Region 94 Avg IOU: 0.049149, Class: 0.000000, Obj: 0.547813, No Obj: 0.460034, .5R: 0.000000, .75R: 0.000000,  count: 2\n",
            "Region 106 Avg IOU: -nan, Class: -nan, Obj: -nan, No Obj: 0.465175, .5R: -nan, .75R: -nan,  count: 0\n",
            "2: 1917.689453, 1915.781860 avg, 0.000000 rate, 27.123300 seconds, 128 images\n",
            "Loaded: 0.000070 seconds\n",
            "Region 82 Avg IOU: 0.157222, Class: 0.194203, Obj: 0.261472, No Obj: 0.484110, .5R: 0.000000, .75R: 0.000000,  count: 3\n",
            "Region 94 Avg IOU: 0.032936, Class: 0.469040, Obj: 0.402932, No Obj: 0.460903, .5R: 0.000000, .75R: 0.000000,  count: 1\n",
            "Region 106 Avg IOU: -nan, Class: -nan, Obj: -nan, No Obj: 0.464507, .5R: -nan, .75R: -nan,  count: 0\n",
            "Region 82 Avg IOU: 0.165129, Class: 0.000000, Obj: 0.248087, No Obj: 0.483705, .5R: 0.000000, .75R: 0.000000,  count: 1\n",
            "Region 94 Avg IOU: 0.013197, Class: 0.000000, Obj: 0.518973, No Obj: 0.461346, .5R: 0.000000, .75R: 0.000000,  count: 2\n",
            "Region 106 Avg IOU: 0.009545, Class: 0.000000, Obj: 0.935490, No Obj: 0.464366, .5R: 0.000000, .75R: 0.000000,  count: 1\n",
            "Region 82 Avg IOU: 0.040344, Class: 0.000000, Obj: 0.115017, No Obj: 0.483545, .5R: 0.000000, .75R: 0.000000,  count: 1\n",
            "Region 94 Avg IOU: 0.056985, Class: 0.000000, Obj: 0.160669, No Obj: 0.462833, .5R: 0.000000, .75R: 0.000000,  count: 3\n",
            "Region 106 Avg IOU: -nan, Class: -nan, Obj: -nan, No Obj: 0.469495, .5R: -nan, .75R: -nan,  count: 0\n",
            "Region 82 Avg IOU: 0.196721, Class: 0.000000, Obj: 0.655305, No Obj: 0.483088, .5R: 0.000000, .75R: 0.000000,  count: 4\n",
            "Region 94 Avg IOU: -nan, Class: -nan, Obj: -nan, No Obj: 0.461387, .5R: -nan, .75R: -nan,  count: 0\n",
            "Region 106 Avg IOU: -nan, Class: -nan, Obj: -nan, No Obj: 0.468565, .5R: -nan, .75R: -nan,  count: 0\n",
            "Region 82 Avg IOU: 0.047491, Class: 0.000000, Obj: 0.345115, No Obj: 0.482003, .5R: 0.000000, .75R: 0.000000,  count: 3\n",
            "Region 94 Avg IOU: 0.046840, Class: 0.000000, Obj: 0.461115, No Obj: 0.461967, .5R: 0.000000, .75R: 0.000000,  count: 1\n",
            "Region 106 Avg IOU: -nan, Class: -nan, Obj: -nan, No Obj: 0.467414, .5R: -nan, .75R: -nan,  count: 0\n",
            "Region 82 Avg IOU: 0.174268, Class: 0.000000, Obj: 0.325475, No Obj: 0.485694, .5R: 0.000000, .75R: 0.000000,  count: 3\n",
            "Region 94 Avg IOU: 0.002615, Class: 0.000000, Obj: 0.034048, No Obj: 0.462100, .5R: 0.000000, .75R: 0.000000,  count: 1\n",
            "Region 106 Avg IOU: -nan, Class: -nan, Obj: -nan, No Obj: 0.467230, .5R: -nan, .75R: -nan,  count: 0\n",
            "Region 82 Avg IOU: 0.080896, Class: 0.000000, Obj: 0.160075, No Obj: 0.481809, .5R: 0.000000, .75R: 0.000000,  count: 3\n",
            "Region 94 Avg IOU: 0.238725, Class: 0.000000, Obj: 0.951992, No Obj: 0.461090, .5R: 0.000000, .75R: 0.000000,  count: 1\n",
            "Region 106 Avg IOU: -nan, Class: -nan, Obj: -nan, No Obj: 0.466477, .5R: -nan, .75R: -nan,  count: 0\n",
            "Region 82 Avg IOU: 0.172150, Class: 0.000000, Obj: 0.596226, No Obj: 0.482059, .5R: 0.000000, .75R: 0.000000,  count: 4\n",
            "Region 94 Avg IOU: -nan, Class: -nan, Obj: -nan, No Obj: 0.461913, .5R: -nan, .75R: -nan,  count: 0\n",
            "Region 106 Avg IOU: -nan, Class: -nan, Obj: -nan, No Obj: 0.468069, .5R: -nan, .75R: -nan,  count: 0\n",
            "Region 82 Avg IOU: 0.214499, Class: 0.000000, Obj: 0.384331, No Obj: 0.482651, .5R: 0.250000, .75R: 0.000000,  count: 4\n",
            "Region 94 Avg IOU: -nan, Class: -nan, Obj: -nan, No Obj: 0.461069, .5R: -nan, .75R: -nan,  count: 0\n",
            "Region 106 Avg IOU: -nan, Class: -nan, Obj: -nan, No Obj: 0.466927, .5R: -nan, .75R: -nan,  count: 0\n",
            "Region 82 Avg IOU: 0.202362, Class: 0.000000, Obj: 0.021863, No Obj: 0.482830, .5R: 0.000000, .75R: 0.000000,  count: 2\n",
            "Region 94 Avg IOU: 0.095212, Class: 0.000000, Obj: 0.402031, No Obj: 0.461105, .5R: 0.000000, .75R: 0.000000,  count: 2\n",
            "Region 106 Avg IOU: -nan, Class: -nan, Obj: -nan, No Obj: 0.464727, .5R: -nan, .75R: -nan,  count: 0\n",
            "Region 82 Avg IOU: 0.125840, Class: 0.000000, Obj: 0.815274, No Obj: 0.483148, .5R: 0.000000, .75R: 0.000000,  count: 2\n",
            "Region 94 Avg IOU: 0.071854, Class: 0.265950, Obj: 0.029748, No Obj: 0.462510, .5R: 0.000000, .75R: 0.000000,  count: 2\n",
            "Region 106 Avg IOU: -nan, Class: -nan, Obj: -nan, No Obj: 0.464904, .5R: -nan, .75R: -nan,  count: 0\n",
            "Region 82 Avg IOU: 0.099121, Class: 0.000000, Obj: 0.422634, No Obj: 0.482011, .5R: 0.000000, .75R: 0.000000,  count: 4\n",
            "Region 94 Avg IOU: -nan, Class: -nan, Obj: -nan, No Obj: 0.461817, .5R: -nan, .75R: -nan,  count: 0\n",
            "Region 106 Avg IOU: -nan, Class: -nan, Obj: -nan, No Obj: 0.467244, .5R: -nan, .75R: -nan,  count: 0\n",
            "Region 82 Avg IOU: 0.173048, Class: 0.000000, Obj: 0.515847, No Obj: 0.481615, .5R: 0.000000, .75R: 0.000000,  count: 4\n",
            "Region 94 Avg IOU: -nan, Class: -nan, Obj: -nan, No Obj: 0.462046, .5R: -nan, .75R: -nan,  count: 0\n",
            "Region 106 Avg IOU: -nan, Class: -nan, Obj: -nan, No Obj: 0.465963, .5R: -nan, .75R: -nan,  count: 0\n",
            "Region 82 Avg IOU: 0.115518, Class: 0.171070, Obj: 0.369897, No Obj: 0.481111, .5R: 0.000000, .75R: 0.000000,  count: 3\n",
            "Region 94 Avg IOU: 0.120099, Class: 0.000000, Obj: 0.627122, No Obj: 0.461554, .5R: 0.000000, .75R: 0.000000,  count: 1\n",
            "Region 106 Avg IOU: -nan, Class: -nan, Obj: -nan, No Obj: 0.465672, .5R: -nan, .75R: -nan,  count: 0\n",
            "Region 82 Avg IOU: 0.125242, Class: 0.000000, Obj: 0.301980, No Obj: 0.482540, .5R: 0.000000, .75R: 0.000000,  count: 3\n",
            "Region 94 Avg IOU: 0.038381, Class: 0.000000, Obj: 0.792530, No Obj: 0.462445, .5R: 0.000000, .75R: 0.000000,  count: 1\n",
            "Region 106 Avg IOU: -nan, Class: -nan, Obj: -nan, No Obj: 0.465367, .5R: -nan, .75R: -nan,  count: 0\n",
            "Region 82 Avg IOU: 0.069864, Class: 0.283506, Obj: 0.203356, No Obj: 0.482582, .5R: 0.000000, .75R: 0.000000,  count: 2\n",
            "Region 94 Avg IOU: 0.055275, Class: 0.000000, Obj: 0.109548, No Obj: 0.463131, .5R: 0.000000, .75R: 0.000000,  count: 1\n",
            "Region 106 Avg IOU: 0.008423, Class: 0.979541, Obj: 0.943047, No Obj: 0.466109, .5R: 0.000000, .75R: 0.000000,  count: 1\n",
            "3: 1910.197021, 1915.223389 avg, 0.000000 rate, 27.012054 seconds, 192 images\n",
            "Loaded: 0.000060 seconds\n",
            "Region 82 Avg IOU: 0.081475, Class: 0.000000, Obj: 0.316395, No Obj: 0.482405, .5R: 0.000000, .75R: 0.000000,  count: 4\n",
            "Region 94 Avg IOU: -nan, Class: -nan, Obj: -nan, No Obj: 0.460820, .5R: -nan, .75R: -nan,  count: 0\n",
            "Region 106 Avg IOU: -nan, Class: -nan, Obj: -nan, No Obj: 0.464994, .5R: -nan, .75R: -nan,  count: 0\n",
            "Region 82 Avg IOU: 0.227372, Class: 0.103335, Obj: 0.317230, No Obj: 0.480782, .5R: 0.000000, .75R: 0.000000,  count: 4\n",
            "Region 94 Avg IOU: -nan, Class: -nan, Obj: -nan, No Obj: 0.461772, .5R: -nan, .75R: -nan,  count: 0\n",
            "Region 106 Avg IOU: -nan, Class: -nan, Obj: -nan, No Obj: 0.465992, .5R: -nan, .75R: -nan,  count: 0\n",
            "Region 82 Avg IOU: 0.021608, Class: 0.000000, Obj: 0.082595, No Obj: 0.481331, .5R: 0.000000, .75R: 0.000000,  count: 2\n",
            "Region 94 Avg IOU: 0.065870, Class: 0.283828, Obj: 0.371907, No Obj: 0.462694, .5R: 0.000000, .75R: 0.000000,  count: 2\n",
            "Region 106 Avg IOU: -nan, Class: -nan, Obj: -nan, No Obj: 0.465275, .5R: -nan, .75R: -nan,  count: 0\n",
            "Region 82 Avg IOU: 0.137308, Class: 0.000000, Obj: 0.383881, No Obj: 0.482282, .5R: 0.000000, .75R: 0.000000,  count: 2\n",
            "Region 94 Avg IOU: 0.032478, Class: 0.000000, Obj: 0.659989, No Obj: 0.461932, .5R: 0.000000, .75R: 0.000000,  count: 2\n",
            "Region 106 Avg IOU: -nan, Class: -nan, Obj: -nan, No Obj: 0.464269, .5R: -nan, .75R: -nan,  count: 0\n",
            "Region 82 Avg IOU: 0.033884, Class: 0.000000, Obj: 0.712195, No Obj: 0.483776, .5R: 0.000000, .75R: 0.000000,  count: 2\n",
            "Region 94 Avg IOU: 0.115825, Class: 0.245150, Obj: 0.486780, No Obj: 0.462168, .5R: 0.000000, .75R: 0.000000,  count: 2\n",
            "Region 106 Avg IOU: -nan, Class: -nan, Obj: -nan, No Obj: 0.466815, .5R: -nan, .75R: -nan,  count: 0\n",
            "Region 82 Avg IOU: 0.127709, Class: 0.233031, Obj: 0.508611, No Obj: 0.481995, .5R: 0.000000, .75R: 0.000000,  count: 3\n",
            "Region 94 Avg IOU: 0.002779, Class: 0.929456, Obj: 0.645290, No Obj: 0.462061, .5R: 0.000000, .75R: 0.000000,  count: 1\n",
            "Region 106 Avg IOU: -nan, Class: -nan, Obj: -nan, No Obj: 0.464431, .5R: -nan, .75R: -nan,  count: 0\n",
            "Region 82 Avg IOU: 0.073787, Class: 0.406373, Obj: 0.744544, No Obj: 0.482724, .5R: 0.000000, .75R: 0.000000,  count: 3\n",
            "Region 94 Avg IOU: 0.058331, Class: 0.837017, Obj: 0.903567, No Obj: 0.461916, .5R: 0.000000, .75R: 0.000000,  count: 1\n",
            "Region 106 Avg IOU: -nan, Class: -nan, Obj: -nan, No Obj: 0.466426, .5R: -nan, .75R: -nan,  count: 0\n",
            "Region 82 Avg IOU: 0.179741, Class: 0.233114, Obj: 0.489358, No Obj: 0.480866, .5R: 0.000000, .75R: 0.000000,  count: 2\n",
            "Region 94 Avg IOU: 0.241218, Class: 0.124676, Obj: 0.341598, No Obj: 0.463622, .5R: 0.000000, .75R: 0.000000,  count: 2\n",
            "Region 106 Avg IOU: -nan, Class: -nan, Obj: -nan, No Obj: 0.468607, .5R: -nan, .75R: -nan,  count: 0\n",
            "Region 82 Avg IOU: 0.158974, Class: 0.391435, Obj: 0.490071, No Obj: 0.481133, .5R: 0.000000, .75R: 0.000000,  count: 2\n",
            "Region 94 Avg IOU: 0.156650, Class: 0.000000, Obj: 0.246851, No Obj: 0.459215, .5R: 0.000000, .75R: 0.000000,  count: 2\n",
            "Region 106 Avg IOU: -nan, Class: -nan, Obj: -nan, No Obj: 0.466042, .5R: -nan, .75R: -nan,  count: 0\n",
            "Region 82 Avg IOU: 0.210626, Class: 0.288556, Obj: 0.518934, No Obj: 0.481078, .5R: 0.250000, .75R: 0.000000,  count: 4\n",
            "Region 94 Avg IOU: -nan, Class: -nan, Obj: -nan, No Obj: 0.461659, .5R: -nan, .75R: -nan,  count: 0\n",
            "Region 106 Avg IOU: -nan, Class: -nan, Obj: -nan, No Obj: 0.468634, .5R: -nan, .75R: -nan,  count: 0\n",
            "Region 82 Avg IOU: 0.185569, Class: 0.000000, Obj: 0.410753, No Obj: 0.481342, .5R: 0.000000, .75R: 0.000000,  count: 3\n",
            "Region 94 Avg IOU: 0.273450, Class: 0.000000, Obj: 0.471749, No Obj: 0.460090, .5R: 0.000000, .75R: 0.000000,  count: 1\n",
            "Region 106 Avg IOU: -nan, Class: -nan, Obj: -nan, No Obj: 0.465290, .5R: -nan, .75R: -nan,  count: 0\n",
            "Region 82 Avg IOU: 0.160056, Class: 0.000000, Obj: 0.145463, No Obj: 0.482916, .5R: 0.000000, .75R: 0.000000,  count: 3\n",
            "Region 94 Avg IOU: 0.002666, Class: 0.995492, Obj: 0.063610, No Obj: 0.460769, .5R: 0.000000, .75R: 0.000000,  count: 1\n",
            "Region 106 Avg IOU: -nan, Class: -nan, Obj: -nan, No Obj: 0.467157, .5R: -nan, .75R: -nan,  count: 0\n",
            "Region 82 Avg IOU: 0.224458, Class: 0.000000, Obj: 0.564601, No Obj: 0.483121, .5R: 0.000000, .75R: 0.000000,  count: 3\n",
            "Region 94 Avg IOU: 0.001303, Class: 0.000000, Obj: 0.798363, No Obj: 0.462146, .5R: 0.000000, .75R: 0.000000,  count: 1\n",
            "Region 106 Avg IOU: -nan, Class: -nan, Obj: -nan, No Obj: 0.467619, .5R: -nan, .75R: -nan,  count: 0\n",
            "Region 82 Avg IOU: 0.039931, Class: 0.078750, Obj: 0.209216, No Obj: 0.483549, .5R: 0.000000, .75R: 0.000000,  count: 3\n",
            "Region 94 Avg IOU: 0.018515, Class: 0.000000, Obj: 0.889454, No Obj: 0.462595, .5R: 0.000000, .75R: 0.000000,  count: 1\n",
            "Region 106 Avg IOU: -nan, Class: -nan, Obj: -nan, No Obj: 0.464369, .5R: -nan, .75R: -nan,  count: 0\n",
            "Region 82 Avg IOU: 0.137813, Class: 0.000000, Obj: 0.324694, No Obj: 0.482115, .5R: 0.000000, .75R: 0.000000,  count: 3\n",
            "Region 94 Avg IOU: 0.023391, Class: 0.000000, Obj: 0.968223, No Obj: 0.460400, .5R: 0.000000, .75R: 0.000000,  count: 1\n",
            "Region 106 Avg IOU: -nan, Class: -nan, Obj: -nan, No Obj: 0.465266, .5R: -nan, .75R: -nan,  count: 0\n",
            "Region 82 Avg IOU: 0.197873, Class: 0.000000, Obj: 0.423553, No Obj: 0.481464, .5R: 0.000000, .75R: 0.000000,  count: 3\n",
            "Region 94 Avg IOU: 0.278306, Class: 0.000000, Obj: 0.014267, No Obj: 0.461114, .5R: 0.000000, .75R: 0.000000,  count: 1\n",
            "Region 106 Avg IOU: -nan, Class: -nan, Obj: -nan, No Obj: 0.464813, .5R: -nan, .75R: -nan,  count: 0\n",
            "4: 1911.225586, 1914.823608 avg, 0.000000 rate, 26.962793 seconds, 256 images\n",
            "Loaded: 0.000062 seconds\n",
            "Region 82 Avg IOU: 0.285281, Class: 0.327497, Obj: 0.318631, No Obj: 0.482615, .5R: 0.000000, .75R: 0.000000,  count: 3\n",
            "Region 94 Avg IOU: 0.021642, Class: 0.000000, Obj: 0.000679, No Obj: 0.461579, .5R: 0.000000, .75R: 0.000000,  count: 1\n",
            "Region 106 Avg IOU: -nan, Class: -nan, Obj: -nan, No Obj: 0.466890, .5R: -nan, .75R: -nan,  count: 0\n",
            "Region 82 Avg IOU: 0.092884, Class: 0.000000, Obj: 0.147833, No Obj: 0.481155, .5R: 0.000000, .75R: 0.000000,  count: 2\n",
            "Region 94 Avg IOU: 0.162083, Class: 0.000000, Obj: 0.310063, No Obj: 0.460367, .5R: 0.000000, .75R: 0.000000,  count: 2\n",
            "Region 106 Avg IOU: -nan, Class: -nan, Obj: -nan, No Obj: 0.465610, .5R: -nan, .75R: -nan,  count: 0\n",
            "Region 82 Avg IOU: 0.120664, Class: 0.000000, Obj: 0.705558, No Obj: 0.480971, .5R: 0.000000, .75R: 0.000000,  count: 3\n",
            "Region 94 Avg IOU: 0.229087, Class: 0.000000, Obj: 0.918240, No Obj: 0.462374, .5R: 0.000000, .75R: 0.000000,  count: 1\n",
            "Region 106 Avg IOU: -nan, Class: -nan, Obj: -nan, No Obj: 0.465534, .5R: -nan, .75R: -nan,  count: 0\n",
            "Region 82 Avg IOU: 0.350225, Class: 0.000000, Obj: 0.392414, No Obj: 0.480933, .5R: 0.000000, .75R: 0.000000,  count: 2\n",
            "Region 94 Avg IOU: 0.052163, Class: 0.203391, Obj: 0.518496, No Obj: 0.461248, .5R: 0.000000, .75R: 0.000000,  count: 2\n",
            "Region 106 Avg IOU: -nan, Class: -nan, Obj: -nan, No Obj: 0.465732, .5R: -nan, .75R: -nan,  count: 0\n",
            "Region 82 Avg IOU: 0.329694, Class: 0.298076, Obj: 0.427294, No Obj: 0.480467, .5R: 0.000000, .75R: 0.000000,  count: 3\n",
            "Region 94 Avg IOU: 0.065451, Class: 0.000000, Obj: 0.019474, No Obj: 0.461078, .5R: 0.000000, .75R: 0.000000,  count: 1\n",
            "Region 106 Avg IOU: -nan, Class: -nan, Obj: -nan, No Obj: 0.465653, .5R: -nan, .75R: -nan,  count: 0\n",
            "Region 82 Avg IOU: 0.352335, Class: 0.000000, Obj: 0.329210, No Obj: 0.482209, .5R: 0.000000, .75R: 0.000000,  count: 2\n",
            "Region 94 Avg IOU: 0.015857, Class: 0.000000, Obj: 0.180221, No Obj: 0.461843, .5R: 0.000000, .75R: 0.000000,  count: 2\n",
            "Region 106 Avg IOU: -nan, Class: -nan, Obj: -nan, No Obj: 0.466589, .5R: -nan, .75R: -nan,  count: 0\n",
            "Region 82 Avg IOU: 0.131789, Class: 0.000000, Obj: 0.726351, No Obj: 0.482045, .5R: 0.000000, .75R: 0.000000,  count: 2\n",
            "Region 94 Avg IOU: 0.026771, Class: 0.000000, Obj: 0.038199, No Obj: 0.463384, .5R: 0.000000, .75R: 0.000000,  count: 1\n",
            "Region 106 Avg IOU: 0.002425, Class: 0.000000, Obj: 0.858055, No Obj: 0.467640, .5R: 0.000000, .75R: 0.000000,  count: 1\n",
            "Region 82 Avg IOU: 0.078957, Class: 0.000000, Obj: 0.049678, No Obj: 0.482143, .5R: 0.000000, .75R: 0.000000,  count: 1\n",
            "Region 94 Avg IOU: 0.060343, Class: 0.000000, Obj: 0.087092, No Obj: 0.461684, .5R: 0.000000, .75R: 0.000000,  count: 3\n",
            "Region 106 Avg IOU: -nan, Class: -nan, Obj: -nan, No Obj: 0.466327, .5R: -nan, .75R: -nan,  count: 0\n",
            "Region 82 Avg IOU: 0.210030, Class: 0.566931, Obj: 0.098651, No Obj: 0.481930, .5R: 0.000000, .75R: 0.000000,  count: 1\n",
            "Region 94 Avg IOU: 0.183226, Class: 0.651320, Obj: 0.275788, No Obj: 0.461465, .5R: 0.000000, .75R: 0.000000,  count: 3\n",
            "Region 106 Avg IOU: -nan, Class: -nan, Obj: -nan, No Obj: 0.467484, .5R: -nan, .75R: -nan,  count: 0\n",
            "Region 82 Avg IOU: 0.340108, Class: 0.000000, Obj: 0.191625, No Obj: 0.483036, .5R: 0.500000, .75R: 0.000000,  count: 2\n",
            "Region 94 Avg IOU: 0.047323, Class: 0.214400, Obj: 0.994843, No Obj: 0.462748, .5R: 0.000000, .75R: 0.000000,  count: 1\n",
            "Region 106 Avg IOU: -nan, Class: -nan, Obj: -nan, No Obj: 0.467049, .5R: -nan, .75R: -nan,  count: 0\n",
            "Region 82 Avg IOU: 0.176133, Class: 0.000000, Obj: 0.360859, No Obj: 0.484646, .5R: 0.000000, .75R: 0.000000,  count: 3\n",
            "Region 94 Avg IOU: 0.037022, Class: 0.000000, Obj: 0.018201, No Obj: 0.460687, .5R: 0.000000, .75R: 0.000000,  count: 1\n",
            "Region 106 Avg IOU: -nan, Class: -nan, Obj: -nan, No Obj: 0.468580, .5R: -nan, .75R: -nan,  count: 0\n",
            "Region 82 Avg IOU: 0.043603, Class: 0.000000, Obj: 0.314594, No Obj: 0.483061, .5R: 0.000000, .75R: 0.000000,  count: 3\n",
            "Region 94 Avg IOU: 0.002409, Class: 0.000000, Obj: 0.377963, No Obj: 0.462033, .5R: 0.000000, .75R: 0.000000,  count: 1\n",
            "Region 106 Avg IOU: -nan, Class: -nan, Obj: -nan, No Obj: 0.465993, .5R: -nan, .75R: -nan,  count: 0\n",
            "Region 82 Avg IOU: 0.757895, Class: 0.698368, Obj: 0.455367, No Obj: 0.482087, .5R: 1.000000, .75R: 1.000000,  count: 1\n",
            "Region 94 Avg IOU: 0.204838, Class: 0.000000, Obj: 0.489788, No Obj: 0.461620, .5R: 0.000000, .75R: 0.000000,  count: 3\n",
            "Region 106 Avg IOU: -nan, Class: -nan, Obj: -nan, No Obj: 0.467443, .5R: -nan, .75R: -nan,  count: 0\n",
            "Region 82 Avg IOU: 0.155121, Class: 0.000000, Obj: 0.374068, No Obj: 0.483537, .5R: 0.000000, .75R: 0.000000,  count: 2\n",
            "Region 94 Avg IOU: 0.337513, Class: 0.321007, Obj: 0.265092, No Obj: 0.460855, .5R: 0.500000, .75R: 0.000000,  count: 2\n",
            "Region 106 Avg IOU: -nan, Class: -nan, Obj: -nan, No Obj: 0.465740, .5R: -nan, .75R: -nan,  count: 0\n",
            "Region 82 Avg IOU: 0.106935, Class: 0.000000, Obj: 0.153911, No Obj: 0.483467, .5R: 0.000000, .75R: 0.000000,  count: 2\n",
            "Region 94 Avg IOU: 0.112477, Class: 0.000000, Obj: 0.150749, No Obj: 0.462132, .5R: 0.000000, .75R: 0.000000,  count: 2\n",
            "Region 106 Avg IOU: -nan, Class: -nan, Obj: -nan, No Obj: 0.466847, .5R: -nan, .75R: -nan,  count: 0\n",
            "Region 82 Avg IOU: 0.091627, Class: 0.000000, Obj: 0.459791, No Obj: 0.482580, .5R: 0.000000, .75R: 0.000000,  count: 3\n",
            "Region 94 Avg IOU: 0.119211, Class: 0.000000, Obj: 0.277530, No Obj: 0.461986, .5R: 0.000000, .75R: 0.000000,  count: 1\n",
            "Region 106 Avg IOU: -nan, Class: -nan, Obj: -nan, No Obj: 0.465906, .5R: -nan, .75R: -nan,  count: 0\n",
            "5: 1909.819092, 1914.323120 avg, 0.000000 rate, 27.024370 seconds, 320 images\n",
            "Loaded: 0.000104 seconds\n",
            "Region 82 Avg IOU: 0.147428, Class: 0.000000, Obj: 0.136911, No Obj: 0.480750, .5R: 0.000000, .75R: 0.000000,  count: 3\n",
            "Region 94 Avg IOU: 0.132942, Class: 0.548130, Obj: 0.091307, No Obj: 0.460945, .5R: 0.000000, .75R: 0.000000,  count: 1\n",
            "Region 106 Avg IOU: -nan, Class: -nan, Obj: -nan, No Obj: 0.467663, .5R: -nan, .75R: -nan,  count: 0\n",
            "Region 82 Avg IOU: 0.055295, Class: 0.000000, Obj: 0.424403, No Obj: 0.482784, .5R: 0.000000, .75R: 0.000000,  count: 3\n",
            "Region 94 Avg IOU: 0.026037, Class: 0.000000, Obj: 0.200873, No Obj: 0.461930, .5R: 0.000000, .75R: 0.000000,  count: 1\n",
            "Region 106 Avg IOU: -nan, Class: -nan, Obj: -nan, No Obj: 0.463918, .5R: -nan, .75R: -nan,  count: 0\n",
            "Region 82 Avg IOU: 0.202901, Class: 0.000000, Obj: 0.545520, No Obj: 0.480910, .5R: 0.000000, .75R: 0.000000,  count: 1\n",
            "Region 94 Avg IOU: 0.294332, Class: 0.142031, Obj: 0.126875, No Obj: 0.460753, .5R: 0.333333, .75R: 0.000000,  count: 3\n",
            "Region 106 Avg IOU: -nan, Class: -nan, Obj: -nan, No Obj: 0.464291, .5R: -nan, .75R: -nan,  count: 0\n"
          ],
          "name": "stdout"
        }
      ]
    },
    {
      "cell_type": "code",
      "metadata": {
        "id": "2EiO2wPAaD3S",
        "colab_type": "code",
        "colab": {}
      },
      "source": [
        "!./darknet detector train data/obj.data yolov3.cfg backup/yolov3.backup"
      ],
      "execution_count": 0,
      "outputs": []
    },
    {
      "cell_type": "code",
      "metadata": {
        "id": "CYrXsO7DtfSN",
        "colab_type": "code",
        "outputId": "cdefda9f-a708-452e-8c26-55ff6d75358b",
        "colab": {
          "base_uri": "https://localhost:8080/",
          "height": 34
        }
      },
      "source": [
        "!./darknet detector test data/obj.data cfg/yolov3.cfg backup/yolov3_900.weights data/img/3.jpeg"
      ],
      "execution_count": 0,
      "outputs": [
        {
          "output_type": "stream",
          "text": [
            "Couldn't open file: data/obj.data\n"
          ],
          "name": "stdout"
        }
      ]
    },
    {
      "cell_type": "code",
      "metadata": {
        "id": "Ofm_jIM0Wrsy",
        "colab_type": "code",
        "outputId": "9372f3dd-e341-495d-d94c-8a938cda4b0d",
        "colab": {
          "base_uri": "https://localhost:8080/",
          "height": 1000
        }
      },
      "source": [
        "!./darknet detect cfg/yolov3.cfg backup/yolov3_900.weights data/img/3.jpeg -thresh 0.7"
      ],
      "execution_count": 0,
      "outputs": [
        {
          "output_type": "stream",
          "text": [
            "layer     filters    size              input                output\n",
            "    0 conv     32  3 x 3 / 1   608 x 608 x   3   ->   608 x 608 x  32  0.639 BFLOPs\n",
            "    1 conv     64  3 x 3 / 2   608 x 608 x  32   ->   304 x 304 x  64  3.407 BFLOPs\n",
            "    2 conv     32  1 x 1 / 1   304 x 304 x  64   ->   304 x 304 x  32  0.379 BFLOPs\n",
            "    3 conv     64  3 x 3 / 1   304 x 304 x  32   ->   304 x 304 x  64  3.407 BFLOPs\n",
            "    4 res    1                 304 x 304 x  64   ->   304 x 304 x  64\n",
            "    5 conv    128  3 x 3 / 2   304 x 304 x  64   ->   152 x 152 x 128  3.407 BFLOPs\n",
            "    6 conv     64  1 x 1 / 1   152 x 152 x 128   ->   152 x 152 x  64  0.379 BFLOPs\n",
            "    7 conv    128  3 x 3 / 1   152 x 152 x  64   ->   152 x 152 x 128  3.407 BFLOPs\n",
            "    8 res    5                 152 x 152 x 128   ->   152 x 152 x 128\n",
            "    9 conv     64  1 x 1 / 1   152 x 152 x 128   ->   152 x 152 x  64  0.379 BFLOPs\n",
            "   10 conv    128  3 x 3 / 1   152 x 152 x  64   ->   152 x 152 x 128  3.407 BFLOPs\n",
            "   11 res    8                 152 x 152 x 128   ->   152 x 152 x 128\n",
            "   12 conv    256  3 x 3 / 2   152 x 152 x 128   ->    76 x  76 x 256  3.407 BFLOPs\n",
            "   13 conv    128  1 x 1 / 1    76 x  76 x 256   ->    76 x  76 x 128  0.379 BFLOPs\n",
            "   14 conv    256  3 x 3 / 1    76 x  76 x 128   ->    76 x  76 x 256  3.407 BFLOPs\n",
            "   15 res   12                  76 x  76 x 256   ->    76 x  76 x 256\n",
            "   16 conv    128  1 x 1 / 1    76 x  76 x 256   ->    76 x  76 x 128  0.379 BFLOPs\n",
            "   17 conv    256  3 x 3 / 1    76 x  76 x 128   ->    76 x  76 x 256  3.407 BFLOPs\n",
            "   18 res   15                  76 x  76 x 256   ->    76 x  76 x 256\n",
            "   19 conv    128  1 x 1 / 1    76 x  76 x 256   ->    76 x  76 x 128  0.379 BFLOPs\n",
            "   20 conv    256  3 x 3 / 1    76 x  76 x 128   ->    76 x  76 x 256  3.407 BFLOPs\n",
            "   21 res   18                  76 x  76 x 256   ->    76 x  76 x 256\n",
            "   22 conv    128  1 x 1 / 1    76 x  76 x 256   ->    76 x  76 x 128  0.379 BFLOPs\n",
            "   23 conv    256  3 x 3 / 1    76 x  76 x 128   ->    76 x  76 x 256  3.407 BFLOPs\n",
            "   24 res   21                  76 x  76 x 256   ->    76 x  76 x 256\n",
            "   25 conv    128  1 x 1 / 1    76 x  76 x 256   ->    76 x  76 x 128  0.379 BFLOPs\n",
            "   26 conv    256  3 x 3 / 1    76 x  76 x 128   ->    76 x  76 x 256  3.407 BFLOPs\n",
            "   27 res   24                  76 x  76 x 256   ->    76 x  76 x 256\n",
            "   28 conv    128  1 x 1 / 1    76 x  76 x 256   ->    76 x  76 x 128  0.379 BFLOPs\n",
            "   29 conv    256  3 x 3 / 1    76 x  76 x 128   ->    76 x  76 x 256  3.407 BFLOPs\n",
            "   30 res   27                  76 x  76 x 256   ->    76 x  76 x 256\n",
            "   31 conv    128  1 x 1 / 1    76 x  76 x 256   ->    76 x  76 x 128  0.379 BFLOPs\n",
            "   32 conv    256  3 x 3 / 1    76 x  76 x 128   ->    76 x  76 x 256  3.407 BFLOPs\n",
            "   33 res   30                  76 x  76 x 256   ->    76 x  76 x 256\n",
            "   34 conv    128  1 x 1 / 1    76 x  76 x 256   ->    76 x  76 x 128  0.379 BFLOPs\n",
            "   35 conv    256  3 x 3 / 1    76 x  76 x 128   ->    76 x  76 x 256  3.407 BFLOPs\n",
            "   36 res   33                  76 x  76 x 256   ->    76 x  76 x 256\n",
            "   37 conv    512  3 x 3 / 2    76 x  76 x 256   ->    38 x  38 x 512  3.407 BFLOPs\n",
            "   38 conv    256  1 x 1 / 1    38 x  38 x 512   ->    38 x  38 x 256  0.379 BFLOPs\n",
            "   39 conv    512  3 x 3 / 1    38 x  38 x 256   ->    38 x  38 x 512  3.407 BFLOPs\n",
            "   40 res   37                  38 x  38 x 512   ->    38 x  38 x 512\n",
            "   41 conv    256  1 x 1 / 1    38 x  38 x 512   ->    38 x  38 x 256  0.379 BFLOPs\n",
            "   42 conv    512  3 x 3 / 1    38 x  38 x 256   ->    38 x  38 x 512  3.407 BFLOPs\n",
            "   43 res   40                  38 x  38 x 512   ->    38 x  38 x 512\n",
            "   44 conv    256  1 x 1 / 1    38 x  38 x 512   ->    38 x  38 x 256  0.379 BFLOPs\n",
            "   45 conv    512  3 x 3 / 1    38 x  38 x 256   ->    38 x  38 x 512  3.407 BFLOPs\n",
            "   46 res   43                  38 x  38 x 512   ->    38 x  38 x 512\n",
            "   47 conv    256  1 x 1 / 1    38 x  38 x 512   ->    38 x  38 x 256  0.379 BFLOPs\n",
            "   48 conv    512  3 x 3 / 1    38 x  38 x 256   ->    38 x  38 x 512  3.407 BFLOPs\n",
            "   49 res   46                  38 x  38 x 512   ->    38 x  38 x 512\n",
            "   50 conv    256  1 x 1 / 1    38 x  38 x 512   ->    38 x  38 x 256  0.379 BFLOPs\n",
            "   51 conv    512  3 x 3 / 1    38 x  38 x 256   ->    38 x  38 x 512  3.407 BFLOPs\n",
            "   52 res   49                  38 x  38 x 512   ->    38 x  38 x 512\n",
            "   53 conv    256  1 x 1 / 1    38 x  38 x 512   ->    38 x  38 x 256  0.379 BFLOPs\n",
            "   54 conv    512  3 x 3 / 1    38 x  38 x 256   ->    38 x  38 x 512  3.407 BFLOPs\n",
            "   55 res   52                  38 x  38 x 512   ->    38 x  38 x 512\n",
            "   56 conv    256  1 x 1 / 1    38 x  38 x 512   ->    38 x  38 x 256  0.379 BFLOPs\n",
            "   57 conv    512  3 x 3 / 1    38 x  38 x 256   ->    38 x  38 x 512  3.407 BFLOPs\n",
            "   58 res   55                  38 x  38 x 512   ->    38 x  38 x 512\n",
            "   59 conv    256  1 x 1 / 1    38 x  38 x 512   ->    38 x  38 x 256  0.379 BFLOPs\n",
            "   60 conv    512  3 x 3 / 1    38 x  38 x 256   ->    38 x  38 x 512  3.407 BFLOPs\n",
            "   61 res   58                  38 x  38 x 512   ->    38 x  38 x 512\n",
            "   62 conv   1024  3 x 3 / 2    38 x  38 x 512   ->    19 x  19 x1024  3.407 BFLOPs\n",
            "   63 conv    512  1 x 1 / 1    19 x  19 x1024   ->    19 x  19 x 512  0.379 BFLOPs\n",
            "   64 conv   1024  3 x 3 / 1    19 x  19 x 512   ->    19 x  19 x1024  3.407 BFLOPs\n",
            "   65 res   62                  19 x  19 x1024   ->    19 x  19 x1024\n",
            "   66 conv    512  1 x 1 / 1    19 x  19 x1024   ->    19 x  19 x 512  0.379 BFLOPs\n",
            "   67 conv   1024  3 x 3 / 1    19 x  19 x 512   ->    19 x  19 x1024  3.407 BFLOPs\n",
            "   68 res   65                  19 x  19 x1024   ->    19 x  19 x1024\n",
            "   69 conv    512  1 x 1 / 1    19 x  19 x1024   ->    19 x  19 x 512  0.379 BFLOPs\n",
            "   70 conv   1024  3 x 3 / 1    19 x  19 x 512   ->    19 x  19 x1024  3.407 BFLOPs\n",
            "   71 res   68                  19 x  19 x1024   ->    19 x  19 x1024\n",
            "   72 conv    512  1 x 1 / 1    19 x  19 x1024   ->    19 x  19 x 512  0.379 BFLOPs\n",
            "   73 conv   1024  3 x 3 / 1    19 x  19 x 512   ->    19 x  19 x1024  3.407 BFLOPs\n",
            "   74 res   71                  19 x  19 x1024   ->    19 x  19 x1024\n",
            "   75 conv    512  1 x 1 / 1    19 x  19 x1024   ->    19 x  19 x 512  0.379 BFLOPs\n",
            "   76 conv   1024  3 x 3 / 1    19 x  19 x 512   ->    19 x  19 x1024  3.407 BFLOPs\n",
            "   77 conv    512  1 x 1 / 1    19 x  19 x1024   ->    19 x  19 x 512  0.379 BFLOPs\n",
            "   78 conv   1024  3 x 3 / 1    19 x  19 x 512   ->    19 x  19 x1024  3.407 BFLOPs\n",
            "   79 conv    512  1 x 1 / 1    19 x  19 x1024   ->    19 x  19 x 512  0.379 BFLOPs\n",
            "   80 conv   1024  3 x 3 / 1    19 x  19 x 512   ->    19 x  19 x1024  3.407 BFLOPs\n",
            "   81 conv    255  1 x 1 / 1    19 x  19 x1024   ->    19 x  19 x 255  0.189 BFLOPs\n",
            "   82 yolo\n",
            "   83 route  79\n",
            "   84 conv    256  1 x 1 / 1    19 x  19 x 512   ->    19 x  19 x 256  0.095 BFLOPs\n",
            "   85 upsample            2x    19 x  19 x 256   ->    38 x  38 x 256\n",
            "   86 route  85 61\n",
            "   87 conv    256  1 x 1 / 1    38 x  38 x 768   ->    38 x  38 x 256  0.568 BFLOPs\n",
            "   88 conv    512  3 x 3 / 1    38 x  38 x 256   ->    38 x  38 x 512  3.407 BFLOPs\n",
            "   89 conv    256  1 x 1 / 1    38 x  38 x 512   ->    38 x  38 x 256  0.379 BFLOPs\n",
            "   90 conv    512  3 x 3 / 1    38 x  38 x 256   ->    38 x  38 x 512  3.407 BFLOPs\n",
            "   91 conv    256  1 x 1 / 1    38 x  38 x 512   ->    38 x  38 x 256  0.379 BFLOPs\n",
            "   92 conv    512  3 x 3 / 1    38 x  38 x 256   ->    38 x  38 x 512  3.407 BFLOPs\n",
            "   93 conv    255  1 x 1 / 1    38 x  38 x 512   ->    38 x  38 x 255  0.377 BFLOPs\n",
            "   94 yolo\n",
            "   95 route  91\n",
            "   96 conv    128  1 x 1 / 1    38 x  38 x 256   ->    38 x  38 x 128  0.095 BFLOPs\n",
            "   97 upsample            2x    38 x  38 x 128   ->    76 x  76 x 128\n",
            "   98 route  97 36\n",
            "   99 conv    128  1 x 1 / 1    76 x  76 x 384   ->    76 x  76 x 128  0.568 BFLOPs\n",
            "  100 conv    256  3 x 3 / 1    76 x  76 x 128   ->    76 x  76 x 256  3.407 BFLOPs\n",
            "  101 conv    128  1 x 1 / 1    76 x  76 x 256   ->    76 x  76 x 128  0.379 BFLOPs\n",
            "  102 conv    256  3 x 3 / 1    76 x  76 x 128   ->    76 x  76 x 256  3.407 BFLOPs\n",
            "  103 conv    128  1 x 1 / 1    76 x  76 x 256   ->    76 x  76 x 128  0.379 BFLOPs\n",
            "  104 conv    256  3 x 3 / 1    76 x  76 x 128   ->    76 x  76 x 256  3.407 BFLOPs\n",
            "  105 conv    255  1 x 1 / 1    76 x  76 x 256   ->    76 x  76 x 255  0.754 BFLOPs\n",
            "  106 yolo\n",
            "Loading weights from backup/yolov3_900.weights...Couldn't open file: backup/yolov3_900.weights\n"
          ],
          "name": "stdout"
        }
      ]
    },
    {
      "cell_type": "code",
      "metadata": {
        "id": "lPX4K1QpOpMv",
        "colab_type": "code",
        "outputId": "27c32d31-8d68-4b4a-b77e-5487e2db732b",
        "colab": {
          "base_uri": "https://localhost:8080/",
          "height": 34
        }
      },
      "source": [
        "!pkg-config --modversion opencv"
      ],
      "execution_count": 0,
      "outputs": [
        {
          "output_type": "stream",
          "text": [
            "3.2.0\n"
          ],
          "name": "stdout"
        }
      ]
    },
    {
      "cell_type": "code",
      "metadata": {
        "id": "8rAvz_6UPLjc",
        "colab_type": "code",
        "outputId": "620e3cdf-434a-4d47-c915-6071c2a4e128",
        "colab": {
          "base_uri": "https://localhost:8080/",
          "height": 140
        }
      },
      "source": [
        "!sudo apt-get upgrade"
      ],
      "execution_count": 0,
      "outputs": [
        {
          "output_type": "stream",
          "text": [
            "Reading package lists... Done\n",
            "Building dependency tree       \n",
            "Reading state information... Done\n",
            "Calculating upgrade... Done\n",
            "The following packages have been kept back:\n",
            "  libcudnn7 libcudnn7-dev libnccl-dev libnccl2\n",
            "0 upgraded, 0 newly installed, 0 to remove and 4 not upgraded.\n"
          ],
          "name": "stdout"
        }
      ]
    },
    {
      "cell_type": "code",
      "metadata": {
        "id": "jRSqgfJ6N7DE",
        "colab_type": "code",
        "outputId": "6f0de364-13de-416d-8f82-f18c7d77fcda",
        "colab": {
          "base_uri": "https://localhost:8080/",
          "height": 34
        }
      },
      "source": [
        "!./darknet detector demo data/obj.data yolo-obj.cfg backup/yolo-obj_900.weights"
      ],
      "execution_count": 0,
      "outputs": [
        {
          "output_type": "stream",
          "text": [
            "Couldn't open file: data/obj.data\n"
          ],
          "name": "stdout"
        }
      ]
    }
  ]
}